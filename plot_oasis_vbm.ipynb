{
 "cells": [
  {
   "cell_type": "code",
   "execution_count": 1,
   "metadata": {},
   "outputs": [],
   "source": [
    "%matplotlib inline"
   ]
  },
  {
   "cell_type": "markdown",
   "metadata": {},
   "source": [
    "\n",
    "Voxel-Based Morphometry on Oasis dataset\n",
    "========================================\n",
    "\n",
    "This example uses Voxel-Based Morphometry (VBM) to study the relationship\n",
    "between aging and gray matter density.\n",
    "\n",
    "The data come from the `OASIS <http://www.oasis-brains.org/>`_ project.\n",
    "If you use it, you need to agree with the data usage agreement available\n",
    "on the website.\n",
    "\n",
    "It has been run through a standard VBM pipeline (using SPM8 and\n",
    "NewSegment) to create VBM maps, which we study here.\n",
    "\n",
    "Predictive modeling analysis: VBM bio-markers of aging?\n",
    "--------------------------------------------------------\n",
    "\n",
    "We run a standard SVM-ANOVA nilearn pipeline to predict age from the VBM\n",
    "data. We use only 100 subjects from the OASIS dataset to limit the memory\n",
    "usage.\n",
    "\n",
    "Note that for an actual predictive modeling study of aging, the study\n",
    "should be ran on the full set of subjects. Also, parameters such as the\n",
    "smoothing applied to the data and the number of features selected by the\n",
    "Anova step should be set by nested cross-validation, as they impact\n",
    "significantly the prediction score.\n",
    "\n",
    "Brain mapping with mass univariate\n",
    "-----------------------------------\n",
    "\n",
    "SVM weights are very noisy, partly because heavy smoothing is detrimental\n",
    "for the prediction here. A standard analysis using mass-univariate GLM\n",
    "(here permuted to have exact correction for multiple comparisons) gives a\n",
    "much clearer view of the important regions.\n",
    "\n",
    "____\n",
    "\n",
    "\n"
   ]
  },
  {
   "cell_type": "code",
   "execution_count": 2,
   "metadata": {},
   "outputs": [],
   "source": [
    "# Authors: Elvis Dhomatob, <elvis.dohmatob@inria.fr>, Apr. 2014\n",
    "#          Virgile Fritsch, <virgile.fritsch@inria.fr>, Apr 2014\n",
    "#          Gael Varoquaux, Apr 2014\n",
    "import numpy as np\n",
    "import matplotlib.pyplot as plt\n",
    "from nilearn import datasets\n",
    "from nilearn.input_data import NiftiMasker\n",
    "\n",
    "n_subjects = 100  # more subjects requires more memory"
   ]
  },
  {
   "cell_type": "markdown",
   "metadata": {},
   "source": [
    "Load Oasis dataset\n",
    "-------------------\n",
    "\n"
   ]
  },
  {
   "cell_type": "code",
   "execution_count": 3,
   "metadata": {},
   "outputs": [
    {
     "name": "stdout",
     "output_type": "stream",
     "text": [
      "\n",
      "Dataset created in /home/lou/nilearn_data/oasis1\n",
      "\n",
      "Downloading data from https://www.nitrc.org/frs/download.php/6364/archive_dartel.tgz ...\n"
     ]
    },
    {
     "name": "stderr",
     "output_type": "stream",
     "text": [
      "Downloaded 905208634 of 905208634 bytes (100.0%,    0.0s remaining) ...done. (3034 seconds, 50 min)\n",
      "Extracting data from /home/lou/nilearn_data/oasis1/adcb228c7b26ed4f4fba93bd32bf8d97/archive_dartel.tgz..."
     ]
    },
    {
     "name": "stdout",
     "output_type": "stream",
     "text": [
      "First gray-matter anatomy image (3D) is located at: /home/lou/nilearn_data/oasis1/OAS1_0001_MR1/mwrc1OAS1_0001_MR1_mpr_anon_fslswapdim_bet.nii.gz\n",
      "First white-matter anatomy image (3D) is located at: /home/lou/nilearn_data/oasis1/OAS1_0001_MR1/mwrc2OAS1_0001_MR1_mpr_anon_fslswapdim_bet.nii.gz\n"
     ]
    },
    {
     "name": "stderr",
     "output_type": "stream",
     "text": [
      ".. done.\n"
     ]
    }
   ],
   "source": [
    "oasis_dataset = datasets.fetch_oasis_vbm(n_subjects=n_subjects)\n",
    "gray_matter_map_filenames = oasis_dataset.gray_matter_maps\n",
    "age = oasis_dataset.ext_vars['age'].astype(float)\n",
    "\n",
    "# print basic information on the dataset\n",
    "print('First gray-matter anatomy image (3D) is located at: %s' %\n",
    "      oasis_dataset.gray_matter_maps[0])  # 3D data\n",
    "print('First white-matter anatomy image (3D) is located at: %s' %\n",
    "      oasis_dataset.white_matter_maps[0])  # 3D data"
   ]
  },
  {
   "cell_type": "markdown",
   "metadata": {},
   "source": [
    "Preprocess data\n",
    "----------------\n",
    "\n"
   ]
  },
  {
   "cell_type": "code",
   "execution_count": 4,
   "metadata": {},
   "outputs": [
    {
     "name": "stdout",
     "output_type": "stream",
     "text": [
      "100 samples, 902629 features\n"
     ]
    }
   ],
   "source": [
    "nifti_masker = NiftiMasker(\n",
    "    standardize=False,\n",
    "    smoothing_fwhm=2,\n",
    "    memory='nilearn_cache')  # cache options\n",
    "gm_maps_masked = nifti_masker.fit_transform(gray_matter_map_filenames)\n",
    "n_samples, n_features = gm_maps_masked.shape\n",
    "print(\"%d samples, %d features\" % (n_subjects, n_features))"
   ]
  },
  {
   "cell_type": "markdown",
   "metadata": {},
   "source": [
    "Prediction pipeline with ANOVA and SVR\n",
    "---------------------------------------\n",
    "\n"
   ]
  },
  {
   "cell_type": "code",
   "execution_count": 5,
   "metadata": {},
   "outputs": [
    {
     "name": "stdout",
     "output_type": "stream",
     "text": [
      "ANOVA + SVR\n"
     ]
    }
   ],
   "source": [
    "print(\"ANOVA + SVR\")\n",
    "# Define the prediction function to be used.\n",
    "# Here we use a Support Vector Classification, with a linear kernel\n",
    "from sklearn.svm import SVR\n",
    "svr = SVR(kernel='linear')\n",
    "\n",
    "# Dimension reduction\n",
    "from sklearn.feature_selection import VarianceThreshold, SelectKBest, \\\n",
    "        f_regression\n",
    "\n",
    "# Remove features with too low between-subject variance\n",
    "variance_threshold = VarianceThreshold(threshold=.01)\n",
    "\n",
    "# Here we use a classical univariate feature selection based on F-test,\n",
    "# namely Anova.\n",
    "feature_selection = SelectKBest(f_regression, k=2000)\n",
    "\n",
    "# We have our predictor (SVR), our feature selection (SelectKBest), and now,\n",
    "# we can plug them together in a *pipeline* that performs the two operations\n",
    "# successively:\n",
    "from sklearn.pipeline import Pipeline\n",
    "anova_svr = Pipeline([\n",
    "            ('variance_threshold', variance_threshold),\n",
    "            ('anova', feature_selection),\n",
    "            ('svr', svr)])\n",
    "\n",
    "### Fit and predict\n",
    "anova_svr.fit(gm_maps_masked, age)\n",
    "age_pred = anova_svr.predict(gm_maps_masked)"
   ]
  },
  {
   "cell_type": "markdown",
   "metadata": {},
   "source": [
    "Visualization\n",
    "--------------\n",
    "Look at the SVR's discriminating weights\n",
    "\n"
   ]
  },
  {
   "cell_type": "code",
   "execution_count": 6,
   "metadata": {},
   "outputs": [
    {
     "name": "stderr",
     "output_type": "stream",
     "text": [
      "/home/lou/.local/share/virtualenvs/nilearn-sandbox-bAWEMgCJ/lib/python3.5/site-packages/matplotlib/cbook/deprecation.py:106: MatplotlibDeprecationWarning: Adding an axes using the same arguments as a previous axes currently reuses the earlier instance.  In a future version, a new instance will always be created and returned.  Meanwhile, this warning can be suppressed, and the future behavior ensured, by passing a unique label to each axes instance.\n",
      "  warnings.warn(message, mplDeprecation, stacklevel=1)\n",
      "/home/lou/.local/share/virtualenvs/nilearn-sandbox-bAWEMgCJ/lib/python3.5/site-packages/sklearn/cross_validation.py:41: DeprecationWarning: This module was deprecated in version 0.18 in favor of the model_selection module into which all the refactored classes and functions are moved. Also note that the interface of the new CV iterators are different from that of this module. This module will be removed in 0.20.\n",
      "  \"This module will be removed in 0.20.\", DeprecationWarning)\n"
     ]
    },
    {
     "name": "stdout",
     "output_type": "stream",
     "text": [
      "=== ANOVA ===\n",
      "Prediction accuracy: 0.736385\n",
      "\n",
      "Massively univariate model\n"
     ]
    },
    {
     "name": "stderr",
     "output_type": "stream",
     "text": [
      "/home/lou/.local/share/virtualenvs/nilearn-sandbox-bAWEMgCJ/lib/python3.5/site-packages/matplotlib/cbook/deprecation.py:106: MatplotlibDeprecationWarning: Adding an axes using the same arguments as a previous axes currently reuses the earlier instance.  In a future version, a new instance will always be created and returned.  Meanwhile, this warning can be suppressed, and the future behavior ensured, by passing a unique label to each axes instance.\n",
      "  warnings.warn(message, mplDeprecation, stacklevel=1)\n"
     ]
    },
    {
     "name": "stdout",
     "output_type": "stream",
     "text": [
      "\n",
      "1907 detections\n"
     ]
    },
    {
     "data": {
      "image/png": "[encoded data removed]",
      "text/plain": [
       "<matplotlib.figure.Figure at 0x7febe61f7588>"
      ]
     },
     "metadata": {},
     "output_type": "display_data"
    },
    {
     "data": {
      "image/png": "[encoded data removed]",
      "text/plain": [
       "<matplotlib.figure.Figure at 0x7febe1eca550>"
      ]
     },
     "metadata": {},
     "output_type": "display_data"
    }
   ],
   "source": [
    "coef = svr.coef_\n",
    "# reverse feature selection\n",
    "coef = feature_selection.inverse_transform(coef)\n",
    "# reverse variance threshold\n",
    "coef = variance_threshold.inverse_transform(coef)\n",
    "# reverse masking\n",
    "weight_img = nifti_masker.inverse_transform(coef)\n",
    "\n",
    "\n",
    "# Create the figure\n",
    "from nilearn.plotting import plot_stat_map, show\n",
    "bg_filename = gray_matter_map_filenames[0]\n",
    "z_slice = 0\n",
    "\n",
    "\n",
    "fig = plt.figure(figsize=(5.5, 7.5), facecolor='k')\n",
    "# Hard setting vmax to highlight weights more\n",
    "display = plot_stat_map(weight_img, bg_img=bg_filename,\n",
    "                        display_mode='z', cut_coords=[z_slice],\n",
    "                        figure=fig, vmax=1)\n",
    "display.title('SVM weights', y=1.2)\n",
    "\n",
    "# Measure accuracy with cross validation\n",
    "from sklearn.cross_validation import cross_val_score\n",
    "cv_scores = cross_val_score(anova_svr, gm_maps_masked, age)\n",
    "\n",
    "# Return the corresponding mean prediction accuracy\n",
    "prediction_accuracy = np.mean(cv_scores)\n",
    "print(\"=== ANOVA ===\")\n",
    "print(\"Prediction accuracy: %f\" % prediction_accuracy)\n",
    "print(\"\")\n",
    "\n",
    "### Inference with massively univariate model #################################\n",
    "print(\"Massively univariate model\")\n",
    "\n",
    "# Statistical inference\n",
    "from nilearn.mass_univariate import permuted_ols\n",
    "data = variance_threshold.fit_transform(gm_maps_masked)\n",
    "neg_log_pvals, t_scores_original_data, _ = permuted_ols(\n",
    "    age, data,  # + intercept as a covariate by default\n",
    "    n_perm=2000,  # 1,000 in the interest of time; 10000 would be better\n",
    "    n_jobs=1)  # can be changed to use more CPUs\n",
    "signed_neg_log_pvals = neg_log_pvals * np.sign(t_scores_original_data)\n",
    "signed_neg_log_pvals_unmasked = nifti_masker.inverse_transform(\n",
    "    variance_threshold.inverse_transform(signed_neg_log_pvals))\n",
    "\n",
    "# Show results\n",
    "threshold = -np.log10(0.1)  # 10% corrected\n",
    "\n",
    "fig = plt.figure(figsize=(5.5, 7.5), facecolor='k')\n",
    "\n",
    "display = plot_stat_map(signed_neg_log_pvals_unmasked, bg_img=bg_filename,\n",
    "                        threshold=threshold, cmap=plt.cm.RdBu_r,\n",
    "                        display_mode='z', cut_coords=[z_slice],\n",
    "                        figure=fig)\n",
    "title = ('Negative $\\log_{10}$ p-values'\n",
    "         '\\n(Non-parametric + max-type correction)')\n",
    "display.title(title, y=1.2)\n",
    "\n",
    "n_detections = (signed_neg_log_pvals_unmasked.get_data() > threshold).sum()\n",
    "print('\\n%d detections' % n_detections)\n",
    "\n",
    "show()"
   ]
  },
  {
   "cell_type": "code",
   "execution_count": null,
   "metadata": {},
   "outputs": [],
   "source": []
  }
 ],
 "metadata": {
  "kernelspec": {
   "display_name": "Python 3",
   "language": "python",
   "name": "python3"
  },
  "language_info": {
   "codemirror_mode": {
    "name": "ipython",
    "version": 3
   },
   "file_extension": ".py",
   "mimetype": "text/x-python",
   "name": "python",
   "nbconvert_exporter": "python",
   "pygments_lexer": "ipython3",
   "version": "3.5.2"
  }
 },
 "nbformat": 4,
 "nbformat_minor": 1
}
